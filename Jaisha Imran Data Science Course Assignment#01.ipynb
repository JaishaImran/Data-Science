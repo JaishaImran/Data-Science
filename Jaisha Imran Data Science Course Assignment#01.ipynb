{
 "cells": [
  {
   "cell_type": "code",
   "execution_count": 5,
   "id": "bfa16524",
   "metadata": {},
   "outputs": [
    {
     "name": "stdout",
     "output_type": "stream",
     "text": [
      "Twinkle, twinkle, little star,\n",
      "\tHow I wonder what you are!\n",
      "\t\tUp above the world so high,\n",
      "\t\tLike a diamond in the sky.\n",
      "Twinkle, twinkle, little star,\n",
      "\tHow I wonder what you are\n"
     ]
    }
   ],
   "source": [
    "print(\"Twinkle, twinkle, little star,\\n\\tHow I wonder what you are!\\n\\t\\tUp above the world so high,\\n\\t\\tLike a diamond in the sky.\\nTwinkle, twinkle, little star,\\n\\tHow I wonder what you are\")"
   ]
  },
  {
   "cell_type": "code",
   "execution_count": 7,
   "id": "f3c978ef",
   "metadata": {},
   "outputs": [
    {
     "name": "stdout",
     "output_type": "stream",
     "text": [
      "3.8.8 (default, Apr 13 2021, 15:08:07) [MSC v.1916 32 bit (Intel)]\n"
     ]
    }
   ],
   "source": [
    "import sys\n",
    "print(sys.version)"
   ]
  },
  {
   "cell_type": "code",
   "execution_count": 13,
   "id": "67db68b0",
   "metadata": {},
   "outputs": [
    {
     "name": "stdout",
     "output_type": "stream",
     "text": [
      "2022-01-01 21:55:13.909941\n"
     ]
    }
   ],
   "source": [
    "import datetime \n",
    "    \n",
    "current_time = datetime.datetime.now() \n",
    "     \n",
    "print (current_time) "
   ]
  },
  {
   "cell_type": "code",
   "execution_count": 20,
   "id": "4906d53c",
   "metadata": {},
   "outputs": [
    {
     "name": "stdout",
     "output_type": "stream",
     "text": [
      "Enter radius of circle: 2\n",
      "Area of circle: 13.648\n"
     ]
    }
   ],
   "source": [
    "r = float(input(\"Enter radius of circle: \"))\n",
    "Area_of_circle = 3.412 * r * r\n",
    "print(\"Area of circle:\", Area_of_circle)"
   ]
  },
  {
   "cell_type": "code",
   "execution_count": 22,
   "id": "aeb34d93",
   "metadata": {},
   "outputs": [
    {
     "name": "stdout",
     "output_type": "stream",
     "text": [
      "enter first name: Jaisha \n",
      "enter last name: Imran\n",
      "Imran Jaisha \n"
     ]
    }
   ],
   "source": [
    "first_name = input(\"enter first name: \")\n",
    "last_name = input(\"enter last name: \")\n",
    "print (last_name, first_name)"
   ]
  },
  {
   "cell_type": "code",
   "execution_count": 25,
   "id": "a40f04c6",
   "metadata": {},
   "outputs": [
    {
     "name": "stdout",
     "output_type": "stream",
     "text": [
      "Enter first number: 2\n",
      "Enter second number: 3\n",
      "Addition:  5\n"
     ]
    }
   ],
   "source": [
    "a = int(input(\"Enter first number: \"))\n",
    "b = int(input(\"Enter second number: \"))\n",
    "c = a + b\n",
    "print(\"Addition: \", c)"
   ]
  },
  {
   "cell_type": "code",
   "execution_count": null,
   "id": "844b594e",
   "metadata": {},
   "outputs": [],
   "source": []
  }
 ],
 "metadata": {
  "kernelspec": {
   "display_name": "Python 3",
   "language": "python",
   "name": "python3"
  },
  "language_info": {
   "codemirror_mode": {
    "name": "ipython",
    "version": 3
   },
   "file_extension": ".py",
   "mimetype": "text/x-python",
   "name": "python",
   "nbconvert_exporter": "python",
   "pygments_lexer": "ipython3",
   "version": "3.8.8"
  }
 },
 "nbformat": 4,
 "nbformat_minor": 5
}
